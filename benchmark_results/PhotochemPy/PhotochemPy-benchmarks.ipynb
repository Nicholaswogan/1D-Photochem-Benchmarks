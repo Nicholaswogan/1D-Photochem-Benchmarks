{
 "cells": [
  {
   "cell_type": "markdown",
   "metadata": {},
   "source": [
    "# PhotochemPy benchmarks\n",
    "\n",
    "Benchmarks for PhotochemPy v0.2.11. To run these benchmarks you must install PhotochemPy v0.2.11 at [this link](https://github.com/Nicholaswogan/PhotochemPy/tree/68c45a1d11660ae3d4f2c6ea43ee5dc403d4cb94)."
   ]
  },
  {
   "cell_type": "code",
   "execution_count": 1,
   "metadata": {},
   "outputs": [],
   "source": [
    "import numpy as np\n",
    "from matplotlib import pyplot as plt\n",
    "from PhotochemPy import PhotochemPy"
   ]
  },
  {
   "cell_type": "code",
   "execution_count": 5,
   "metadata": {},
   "outputs": [],
   "source": [
    "# for writing output files\n",
    "def write_output(pc, filename, overwrite = False):\n",
    "    pc.out2atmosphere_txt(filename = filename+'_mixingratios.txt', overwrite = overwrite)\n",
    "    flux = pc.surf_flux()\n",
    "    flux_filename = filename+'_surfaceflux.txt'\n",
    "    fmt = '{:35}'\n",
    "    \n",
    "    fil = open(flux_filename,'w')\n",
    "    fil.write(fmt.format('Species'))\n",
    "    fil.write(fmt.format('Surface flux (molecules/cm^2/s)'))\n",
    "    fil.write('\\n')\n",
    "    for key in flux.keys():\n",
    "        fil.write(fmt.format(key))\n",
    "        fil.write(fmt.format('%.5e'%flux[key]))\n",
    "        fil.write('\\n')\n",
    "    fil.close()"
   ]
  },
  {
   "cell_type": "markdown",
   "metadata": {},
   "source": [
    "## ModernEarth"
   ]
  },
  {
   "cell_type": "code",
   "execution_count": null,
   "metadata": {},
   "outputs": [],
   "source": [
    "pc = PhotochemPy('ModernEarth/input_files/species_ModernEarth.dat', \\\n",
    "                 'ModernEarth/input_files/reactions_wogan.rx', \\\n",
    "                 'ModernEarth/input_files/ModernEarth_settings.yaml', \\\n",
    "                 'ModernEarth/input_files/atmosphere_ModernEarth.txt', \\\n",
    "                 'ModernEarth/input_files/ModernEarth_flux.txt')"
   ]
  },
  {
   "cell_type": "code",
   "execution_count": null,
   "metadata": {},
   "outputs": [],
   "source": [
    "success = pc.integrate(nsteps = 100000, method= 'CVODE_BDF', atol = 1e-27)"
   ]
  },
  {
   "cell_type": "code",
   "execution_count": null,
   "metadata": {},
   "outputs": [],
   "source": [
    "write_output(pc, 'ModernEarth/results/PhotochemPy_v0.2.11_ModernEarth', overwrite=True)"
   ]
  },
  {
   "cell_type": "code",
   "execution_count": null,
   "metadata": {},
   "outputs": [],
   "source": []
  }
 ],
 "metadata": {
  "kernelspec": {
   "display_name": "Python 3",
   "language": "python",
   "name": "python3"
  },
  "language_info": {
   "codemirror_mode": {
    "name": "ipython",
    "version": 3
   },
   "file_extension": ".py",
   "mimetype": "text/x-python",
   "name": "python",
   "nbconvert_exporter": "python",
   "pygments_lexer": "ipython3",
   "version": "3.8.5"
  }
 },
 "nbformat": 4,
 "nbformat_minor": 4
}
